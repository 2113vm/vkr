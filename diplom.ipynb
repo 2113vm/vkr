{
 "cells": [
  {
   "cell_type": "code",
   "execution_count": 4,
   "metadata": {},
   "outputs": [],
   "source": [
    "import cv2\n",
    "import numpy as np\n",
    "import pandas as pd\n",
    "import keras\n",
    "from keras.applications import MobileNet\n",
    "from keras.applications.mobilenet import preprocess_input\n",
    "from keras.models import Input, Model\n"
   ]
  },
  {
   "cell_type": "code",
   "execution_count": null,
   "metadata": {},
   "outputs": [],
   "source": [
    "metadata = pd.read_csv('metadata.csv')"
   ]
  },
  {
   "cell_type": "code",
   "execution_count": null,
   "metadata": {},
   "outputs": [],
   "source": [
    "X = []\n",
    "y = []\n",
    "\n",
    "for image in images:\n",
    "    img = cv2.cvtColor(cv2.imread(image), cv2.COLOR_BGR2RGB)\n",
    "    img = preprocess_input(img.astype(float))\n",
    "    contour = metadata[metadata.image == image].iloc[0]\n",
    "    mask = create_mask(img.shape, contour)\n",
    "    img = cv2.resize(img, (224, 224))\n",
    "    mask = cv2.resize(mask, (32, 32))\n",
    "    X.append(img)\n",
    "    y.append(mask)\n",
    "    \n",
    "X = np.array(X)\n",
    "y = np.array(y)"
   ]
  },
  {
   "cell_type": "code",
   "execution_count": null,
   "metadata": {},
   "outputs": [],
   "source": [
    "X_train = X[:1300]\n",
    "y_train = y[:1300]\n",
    "X_val = X[1300:1600]\n",
    "y_val = y[1300:1600]\n",
    "X_test = X[1600:]\n",
    "y_test = y[1600:]\n",
    "\n",
    "train_seed = 777\n",
    "val_seed = 222\n",
    "\n",
    "batch_size = 64"
   ]
  },
  {
   "cell_type": "code",
   "execution_count": null,
   "metadata": {},
   "outputs": [],
   "source": [
    "image_generator = ImageDataGenerator(rotation_range=10,\n",
    "                                     width_shift_range=0.1,\n",
    "                                     height_shift_range=0.1,\n",
    "                                     horizontal_flip=True, vertical_flip=True, zoom_range=0.25)\n",
    "\n",
    "mask_generator = ImageDataGenerator(rotation_range=10,\n",
    "                                     width_shift_range=0.1,\n",
    "                                     height_shift_range=0.1,\n",
    "                                     horizontal_flip=True, vertical_flip=True, zoom_range=0.25)"
   ]
  },
  {
   "cell_type": "code",
   "execution_count": null,
   "metadata": {},
   "outputs": [],
   "source": [
    "def get_mask_generator(y, seed):\n",
    "    for batch in mask_generator.flow(y, batch_size=batch_size, seed=seed):\n",
    "        yield batch[:, :, :, 0].reshape((batch.shape[0], batch.shape[1]*batch.shape[2]))"
   ]
  },
  {
   "cell_type": "code",
   "execution_count": null,
   "metadata": {},
   "outputs": [],
   "source": [
    "train_generator = zip(image_generator.flow(X_train, batch_size=batch_size, seed=train_seed), \n",
    "                      get_mask_generator(y_train, train_seed))\n",
    "\n",
    "val_generator = zip(image_generator.flow(X_val, batch_size=batch_size, seed=val_seed), \n",
    "                      get_mask_generator(y_val, val_seed))\n"
   ]
  },
  {
   "cell_type": "code",
   "execution_count": null,
   "metadata": {},
   "outputs": [],
   "source": [
    "model_mobilenet = MobileNet(input_shape=(224,224,3), include_top=False)\n",
    "model_output = GlobalAveragePooling2D()(model_mobilenet.output)\n",
    "model_output = Dense(32*32, activation='sigmoid')(model_output)\n",
    "MODEL = Model(input=model_mobilenet.input, output=model_output)"
   ]
  },
  {
   "cell_type": "code",
   "execution_count": null,
   "metadata": {},
   "outputs": [],
   "source": []
  },
  {
   "cell_type": "code",
   "execution_count": null,
   "metadata": {},
   "outputs": [],
   "source": [
    "MODEL.compile(loss='binary_crossentropy', optimizer=Adam(), \n",
    "              metrics=['binary_crossentropy', 'accuracy'])"
   ]
  },
  {
   "cell_type": "code",
   "execution_count": null,
   "metadata": {},
   "outputs": [],
   "source": [
    "MODEL.fit_generator(train_generator, steps_per_epoch=len(X_train) / batch_size,\n",
    "                    epochs=50, verbose=1, \n",
    "                    validation_data=val_generator, validation_steps=len(X_val) / batch_size)"
   ]
  },
  {
   "cell_type": "code",
   "execution_count": null,
   "metadata": {},
   "outputs": [],
   "source": []
  }
 ],
 "metadata": {
  "kernelspec": {
   "display_name": "Python 3",
   "language": "python",
   "name": "python3"
  },
  "language_info": {
   "codemirror_mode": {
    "name": "ipython",
    "version": 3
   },
   "file_extension": ".py",
   "mimetype": "text/x-python",
   "name": "python",
   "nbconvert_exporter": "python",
   "pygments_lexer": "ipython3",
   "version": "3.6.5"
  }
 },
 "nbformat": 4,
 "nbformat_minor": 2
}
